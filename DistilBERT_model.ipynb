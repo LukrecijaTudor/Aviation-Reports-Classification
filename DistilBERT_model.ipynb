{
  "nbformat": 4,
  "nbformat_minor": 0,
  "metadata": {
    "colab": {
      "name": "DistilBERT model.ipynb",
      "provenance": []
    },
    "kernelspec": {
      "name": "python3",
      "display_name": "Python 3"
    },
    "language_info": {
      "name": "python"
    },
    "accelerator": "GPU",
    "widgets": {
      "application/vnd.jupyter.widget-state+json": {
        "b1f72ad7f5ad4910b76c400e5d710696": {
          "model_module": "@jupyter-widgets/controls",
          "model_name": "HBoxModel",
          "model_module_version": "1.5.0",
          "state": {
            "_view_name": "HBoxView",
            "_dom_classes": [],
            "_model_name": "HBoxModel",
            "_view_module": "@jupyter-widgets/controls",
            "_model_module_version": "1.5.0",
            "_view_count": null,
            "_view_module_version": "1.5.0",
            "box_style": "",
            "layout": "IPY_MODEL_67322c5202d946fa9622a5969833c514",
            "_model_module": "@jupyter-widgets/controls",
            "children": [
              "IPY_MODEL_f02d8b025be64e3ebcb935f6cad208f1",
              "IPY_MODEL_a5f00e2a8e524e249f9a0a0afeee9b06",
              "IPY_MODEL_a132d3b18ec9484faa5a87aaefbbc13b"
            ]
          }
        },
        "67322c5202d946fa9622a5969833c514": {
          "model_module": "@jupyter-widgets/base",
          "model_name": "LayoutModel",
          "model_module_version": "1.2.0",
          "state": {
            "_view_name": "LayoutView",
            "grid_template_rows": null,
            "right": null,
            "justify_content": null,
            "_view_module": "@jupyter-widgets/base",
            "overflow": null,
            "_model_module_version": "1.2.0",
            "_view_count": null,
            "flex_flow": null,
            "width": null,
            "min_width": null,
            "border": null,
            "align_items": null,
            "bottom": null,
            "_model_module": "@jupyter-widgets/base",
            "top": null,
            "grid_column": null,
            "overflow_y": null,
            "overflow_x": null,
            "grid_auto_flow": null,
            "grid_area": null,
            "grid_template_columns": null,
            "flex": null,
            "_model_name": "LayoutModel",
            "justify_items": null,
            "grid_row": null,
            "max_height": null,
            "align_content": null,
            "visibility": null,
            "align_self": null,
            "height": null,
            "min_height": null,
            "padding": null,
            "grid_auto_rows": null,
            "grid_gap": null,
            "max_width": null,
            "order": null,
            "_view_module_version": "1.2.0",
            "grid_template_areas": null,
            "object_position": null,
            "object_fit": null,
            "grid_auto_columns": null,
            "margin": null,
            "display": null,
            "left": null
          }
        },
        "f02d8b025be64e3ebcb935f6cad208f1": {
          "model_module": "@jupyter-widgets/controls",
          "model_name": "HTMLModel",
          "model_module_version": "1.5.0",
          "state": {
            "_view_name": "HTMLView",
            "style": "IPY_MODEL_8dc0c13cb0924463a6299be512ea14f2",
            "_dom_classes": [],
            "description": "",
            "_model_name": "HTMLModel",
            "placeholder": "​",
            "_view_module": "@jupyter-widgets/controls",
            "_model_module_version": "1.5.0",
            "value": "Downloading: 100%",
            "_view_count": null,
            "_view_module_version": "1.5.0",
            "description_tooltip": null,
            "_model_module": "@jupyter-widgets/controls",
            "layout": "IPY_MODEL_61db7a42091049f88089c6b0611debe6"
          }
        },
        "a5f00e2a8e524e249f9a0a0afeee9b06": {
          "model_module": "@jupyter-widgets/controls",
          "model_name": "FloatProgressModel",
          "model_module_version": "1.5.0",
          "state": {
            "_view_name": "ProgressView",
            "style": "IPY_MODEL_0b63ccb701df484eaac71fd3ca85e1ad",
            "_dom_classes": [],
            "description": "",
            "_model_name": "FloatProgressModel",
            "bar_style": "success",
            "max": 231508,
            "_view_module": "@jupyter-widgets/controls",
            "_model_module_version": "1.5.0",
            "value": 231508,
            "_view_count": null,
            "_view_module_version": "1.5.0",
            "orientation": "horizontal",
            "min": 0,
            "description_tooltip": null,
            "_model_module": "@jupyter-widgets/controls",
            "layout": "IPY_MODEL_311bc7de86b1468095709ac282bb48f6"
          }
        },
        "a132d3b18ec9484faa5a87aaefbbc13b": {
          "model_module": "@jupyter-widgets/controls",
          "model_name": "HTMLModel",
          "model_module_version": "1.5.0",
          "state": {
            "_view_name": "HTMLView",
            "style": "IPY_MODEL_bd24a0124282472fb3a01ce3e2cd2bd0",
            "_dom_classes": [],
            "description": "",
            "_model_name": "HTMLModel",
            "placeholder": "​",
            "_view_module": "@jupyter-widgets/controls",
            "_model_module_version": "1.5.0",
            "value": " 232k/232k [00:00&lt;00:00, 211kB/s]",
            "_view_count": null,
            "_view_module_version": "1.5.0",
            "description_tooltip": null,
            "_model_module": "@jupyter-widgets/controls",
            "layout": "IPY_MODEL_22a3d16b90234f24ba7339d186ab842a"
          }
        },
        "8dc0c13cb0924463a6299be512ea14f2": {
          "model_module": "@jupyter-widgets/controls",
          "model_name": "DescriptionStyleModel",
          "model_module_version": "1.5.0",
          "state": {
            "_view_name": "StyleView",
            "_model_name": "DescriptionStyleModel",
            "description_width": "",
            "_view_module": "@jupyter-widgets/base",
            "_model_module_version": "1.5.0",
            "_view_count": null,
            "_view_module_version": "1.2.0",
            "_model_module": "@jupyter-widgets/controls"
          }
        },
        "61db7a42091049f88089c6b0611debe6": {
          "model_module": "@jupyter-widgets/base",
          "model_name": "LayoutModel",
          "model_module_version": "1.2.0",
          "state": {
            "_view_name": "LayoutView",
            "grid_template_rows": null,
            "right": null,
            "justify_content": null,
            "_view_module": "@jupyter-widgets/base",
            "overflow": null,
            "_model_module_version": "1.2.0",
            "_view_count": null,
            "flex_flow": null,
            "width": null,
            "min_width": null,
            "border": null,
            "align_items": null,
            "bottom": null,
            "_model_module": "@jupyter-widgets/base",
            "top": null,
            "grid_column": null,
            "overflow_y": null,
            "overflow_x": null,
            "grid_auto_flow": null,
            "grid_area": null,
            "grid_template_columns": null,
            "flex": null,
            "_model_name": "LayoutModel",
            "justify_items": null,
            "grid_row": null,
            "max_height": null,
            "align_content": null,
            "visibility": null,
            "align_self": null,
            "height": null,
            "min_height": null,
            "padding": null,
            "grid_auto_rows": null,
            "grid_gap": null,
            "max_width": null,
            "order": null,
            "_view_module_version": "1.2.0",
            "grid_template_areas": null,
            "object_position": null,
            "object_fit": null,
            "grid_auto_columns": null,
            "margin": null,
            "display": null,
            "left": null
          }
        },
        "0b63ccb701df484eaac71fd3ca85e1ad": {
          "model_module": "@jupyter-widgets/controls",
          "model_name": "ProgressStyleModel",
          "model_module_version": "1.5.0",
          "state": {
            "_view_name": "StyleView",
            "_model_name": "ProgressStyleModel",
            "description_width": "",
            "_view_module": "@jupyter-widgets/base",
            "_model_module_version": "1.5.0",
            "_view_count": null,
            "_view_module_version": "1.2.0",
            "bar_color": null,
            "_model_module": "@jupyter-widgets/controls"
          }
        },
        "311bc7de86b1468095709ac282bb48f6": {
          "model_module": "@jupyter-widgets/base",
          "model_name": "LayoutModel",
          "model_module_version": "1.2.0",
          "state": {
            "_view_name": "LayoutView",
            "grid_template_rows": null,
            "right": null,
            "justify_content": null,
            "_view_module": "@jupyter-widgets/base",
            "overflow": null,
            "_model_module_version": "1.2.0",
            "_view_count": null,
            "flex_flow": null,
            "width": null,
            "min_width": null,
            "border": null,
            "align_items": null,
            "bottom": null,
            "_model_module": "@jupyter-widgets/base",
            "top": null,
            "grid_column": null,
            "overflow_y": null,
            "overflow_x": null,
            "grid_auto_flow": null,
            "grid_area": null,
            "grid_template_columns": null,
            "flex": null,
            "_model_name": "LayoutModel",
            "justify_items": null,
            "grid_row": null,
            "max_height": null,
            "align_content": null,
            "visibility": null,
            "align_self": null,
            "height": null,
            "min_height": null,
            "padding": null,
            "grid_auto_rows": null,
            "grid_gap": null,
            "max_width": null,
            "order": null,
            "_view_module_version": "1.2.0",
            "grid_template_areas": null,
            "object_position": null,
            "object_fit": null,
            "grid_auto_columns": null,
            "margin": null,
            "display": null,
            "left": null
          }
        },
        "bd24a0124282472fb3a01ce3e2cd2bd0": {
          "model_module": "@jupyter-widgets/controls",
          "model_name": "DescriptionStyleModel",
          "model_module_version": "1.5.0",
          "state": {
            "_view_name": "StyleView",
            "_model_name": "DescriptionStyleModel",
            "description_width": "",
            "_view_module": "@jupyter-widgets/base",
            "_model_module_version": "1.5.0",
            "_view_count": null,
            "_view_module_version": "1.2.0",
            "_model_module": "@jupyter-widgets/controls"
          }
        },
        "22a3d16b90234f24ba7339d186ab842a": {
          "model_module": "@jupyter-widgets/base",
          "model_name": "LayoutModel",
          "model_module_version": "1.2.0",
          "state": {
            "_view_name": "LayoutView",
            "grid_template_rows": null,
            "right": null,
            "justify_content": null,
            "_view_module": "@jupyter-widgets/base",
            "overflow": null,
            "_model_module_version": "1.2.0",
            "_view_count": null,
            "flex_flow": null,
            "width": null,
            "min_width": null,
            "border": null,
            "align_items": null,
            "bottom": null,
            "_model_module": "@jupyter-widgets/base",
            "top": null,
            "grid_column": null,
            "overflow_y": null,
            "overflow_x": null,
            "grid_auto_flow": null,
            "grid_area": null,
            "grid_template_columns": null,
            "flex": null,
            "_model_name": "LayoutModel",
            "justify_items": null,
            "grid_row": null,
            "max_height": null,
            "align_content": null,
            "visibility": null,
            "align_self": null,
            "height": null,
            "min_height": null,
            "padding": null,
            "grid_auto_rows": null,
            "grid_gap": null,
            "max_width": null,
            "order": null,
            "_view_module_version": "1.2.0",
            "grid_template_areas": null,
            "object_position": null,
            "object_fit": null,
            "grid_auto_columns": null,
            "margin": null,
            "display": null,
            "left": null
          }
        },
        "cc54a458dca543fd8d7d9120b5f234a8": {
          "model_module": "@jupyter-widgets/controls",
          "model_name": "HBoxModel",
          "model_module_version": "1.5.0",
          "state": {
            "_view_name": "HBoxView",
            "_dom_classes": [],
            "_model_name": "HBoxModel",
            "_view_module": "@jupyter-widgets/controls",
            "_model_module_version": "1.5.0",
            "_view_count": null,
            "_view_module_version": "1.5.0",
            "box_style": "",
            "layout": "IPY_MODEL_c4f83978dc8b416189134fa5c8aa0253",
            "_model_module": "@jupyter-widgets/controls",
            "children": [
              "IPY_MODEL_228e8ab65056483cb55d4dbbe7f1ce00",
              "IPY_MODEL_4e6750ab9d6e46798690a5fcc35641c0",
              "IPY_MODEL_07afabe6c8a941cb9b95f0f164f4c762"
            ]
          }
        },
        "c4f83978dc8b416189134fa5c8aa0253": {
          "model_module": "@jupyter-widgets/base",
          "model_name": "LayoutModel",
          "model_module_version": "1.2.0",
          "state": {
            "_view_name": "LayoutView",
            "grid_template_rows": null,
            "right": null,
            "justify_content": null,
            "_view_module": "@jupyter-widgets/base",
            "overflow": null,
            "_model_module_version": "1.2.0",
            "_view_count": null,
            "flex_flow": null,
            "width": null,
            "min_width": null,
            "border": null,
            "align_items": null,
            "bottom": null,
            "_model_module": "@jupyter-widgets/base",
            "top": null,
            "grid_column": null,
            "overflow_y": null,
            "overflow_x": null,
            "grid_auto_flow": null,
            "grid_area": null,
            "grid_template_columns": null,
            "flex": null,
            "_model_name": "LayoutModel",
            "justify_items": null,
            "grid_row": null,
            "max_height": null,
            "align_content": null,
            "visibility": null,
            "align_self": null,
            "height": null,
            "min_height": null,
            "padding": null,
            "grid_auto_rows": null,
            "grid_gap": null,
            "max_width": null,
            "order": null,
            "_view_module_version": "1.2.0",
            "grid_template_areas": null,
            "object_position": null,
            "object_fit": null,
            "grid_auto_columns": null,
            "margin": null,
            "display": null,
            "left": null
          }
        },
        "228e8ab65056483cb55d4dbbe7f1ce00": {
          "model_module": "@jupyter-widgets/controls",
          "model_name": "HTMLModel",
          "model_module_version": "1.5.0",
          "state": {
            "_view_name": "HTMLView",
            "style": "IPY_MODEL_ccbe6f88246245718efbef3ac543086e",
            "_dom_classes": [],
            "description": "",
            "_model_name": "HTMLModel",
            "placeholder": "​",
            "_view_module": "@jupyter-widgets/controls",
            "_model_module_version": "1.5.0",
            "value": "Downloading: 100%",
            "_view_count": null,
            "_view_module_version": "1.5.0",
            "description_tooltip": null,
            "_model_module": "@jupyter-widgets/controls",
            "layout": "IPY_MODEL_ee59bb0c6ed24b42a09778b553e38ada"
          }
        },
        "4e6750ab9d6e46798690a5fcc35641c0": {
          "model_module": "@jupyter-widgets/controls",
          "model_name": "FloatProgressModel",
          "model_module_version": "1.5.0",
          "state": {
            "_view_name": "ProgressView",
            "style": "IPY_MODEL_fddfa5ca21564f97a53af3e736ec6319",
            "_dom_classes": [],
            "description": "",
            "_model_name": "FloatProgressModel",
            "bar_style": "success",
            "max": 28,
            "_view_module": "@jupyter-widgets/controls",
            "_model_module_version": "1.5.0",
            "value": 28,
            "_view_count": null,
            "_view_module_version": "1.5.0",
            "orientation": "horizontal",
            "min": 0,
            "description_tooltip": null,
            "_model_module": "@jupyter-widgets/controls",
            "layout": "IPY_MODEL_8d5bb98a6d7e4716aa4512e684a37412"
          }
        },
        "07afabe6c8a941cb9b95f0f164f4c762": {
          "model_module": "@jupyter-widgets/controls",
          "model_name": "HTMLModel",
          "model_module_version": "1.5.0",
          "state": {
            "_view_name": "HTMLView",
            "style": "IPY_MODEL_da225fd99e954adc8752ef53eae502e4",
            "_dom_classes": [],
            "description": "",
            "_model_name": "HTMLModel",
            "placeholder": "​",
            "_view_module": "@jupyter-widgets/controls",
            "_model_module_version": "1.5.0",
            "value": " 28.0/28.0 [00:00&lt;00:00, 654B/s]",
            "_view_count": null,
            "_view_module_version": "1.5.0",
            "description_tooltip": null,
            "_model_module": "@jupyter-widgets/controls",
            "layout": "IPY_MODEL_0a0be757cd904e3489a1623026ae1170"
          }
        },
        "ccbe6f88246245718efbef3ac543086e": {
          "model_module": "@jupyter-widgets/controls",
          "model_name": "DescriptionStyleModel",
          "model_module_version": "1.5.0",
          "state": {
            "_view_name": "StyleView",
            "_model_name": "DescriptionStyleModel",
            "description_width": "",
            "_view_module": "@jupyter-widgets/base",
            "_model_module_version": "1.5.0",
            "_view_count": null,
            "_view_module_version": "1.2.0",
            "_model_module": "@jupyter-widgets/controls"
          }
        },
        "ee59bb0c6ed24b42a09778b553e38ada": {
          "model_module": "@jupyter-widgets/base",
          "model_name": "LayoutModel",
          "model_module_version": "1.2.0",
          "state": {
            "_view_name": "LayoutView",
            "grid_template_rows": null,
            "right": null,
            "justify_content": null,
            "_view_module": "@jupyter-widgets/base",
            "overflow": null,
            "_model_module_version": "1.2.0",
            "_view_count": null,
            "flex_flow": null,
            "width": null,
            "min_width": null,
            "border": null,
            "align_items": null,
            "bottom": null,
            "_model_module": "@jupyter-widgets/base",
            "top": null,
            "grid_column": null,
            "overflow_y": null,
            "overflow_x": null,
            "grid_auto_flow": null,
            "grid_area": null,
            "grid_template_columns": null,
            "flex": null,
            "_model_name": "LayoutModel",
            "justify_items": null,
            "grid_row": null,
            "max_height": null,
            "align_content": null,
            "visibility": null,
            "align_self": null,
            "height": null,
            "min_height": null,
            "padding": null,
            "grid_auto_rows": null,
            "grid_gap": null,
            "max_width": null,
            "order": null,
            "_view_module_version": "1.2.0",
            "grid_template_areas": null,
            "object_position": null,
            "object_fit": null,
            "grid_auto_columns": null,
            "margin": null,
            "display": null,
            "left": null
          }
        },
        "fddfa5ca21564f97a53af3e736ec6319": {
          "model_module": "@jupyter-widgets/controls",
          "model_name": "ProgressStyleModel",
          "model_module_version": "1.5.0",
          "state": {
            "_view_name": "StyleView",
            "_model_name": "ProgressStyleModel",
            "description_width": "",
            "_view_module": "@jupyter-widgets/base",
            "_model_module_version": "1.5.0",
            "_view_count": null,
            "_view_module_version": "1.2.0",
            "bar_color": null,
            "_model_module": "@jupyter-widgets/controls"
          }
        },
        "8d5bb98a6d7e4716aa4512e684a37412": {
          "model_module": "@jupyter-widgets/base",
          "model_name": "LayoutModel",
          "model_module_version": "1.2.0",
          "state": {
            "_view_name": "LayoutView",
            "grid_template_rows": null,
            "right": null,
            "justify_content": null,
            "_view_module": "@jupyter-widgets/base",
            "overflow": null,
            "_model_module_version": "1.2.0",
            "_view_count": null,
            "flex_flow": null,
            "width": null,
            "min_width": null,
            "border": null,
            "align_items": null,
            "bottom": null,
            "_model_module": "@jupyter-widgets/base",
            "top": null,
            "grid_column": null,
            "overflow_y": null,
            "overflow_x": null,
            "grid_auto_flow": null,
            "grid_area": null,
            "grid_template_columns": null,
            "flex": null,
            "_model_name": "LayoutModel",
            "justify_items": null,
            "grid_row": null,
            "max_height": null,
            "align_content": null,
            "visibility": null,
            "align_self": null,
            "height": null,
            "min_height": null,
            "padding": null,
            "grid_auto_rows": null,
            "grid_gap": null,
            "max_width": null,
            "order": null,
            "_view_module_version": "1.2.0",
            "grid_template_areas": null,
            "object_position": null,
            "object_fit": null,
            "grid_auto_columns": null,
            "margin": null,
            "display": null,
            "left": null
          }
        },
        "da225fd99e954adc8752ef53eae502e4": {
          "model_module": "@jupyter-widgets/controls",
          "model_name": "DescriptionStyleModel",
          "model_module_version": "1.5.0",
          "state": {
            "_view_name": "StyleView",
            "_model_name": "DescriptionStyleModel",
            "description_width": "",
            "_view_module": "@jupyter-widgets/base",
            "_model_module_version": "1.5.0",
            "_view_count": null,
            "_view_module_version": "1.2.0",
            "_model_module": "@jupyter-widgets/controls"
          }
        },
        "0a0be757cd904e3489a1623026ae1170": {
          "model_module": "@jupyter-widgets/base",
          "model_name": "LayoutModel",
          "model_module_version": "1.2.0",
          "state": {
            "_view_name": "LayoutView",
            "grid_template_rows": null,
            "right": null,
            "justify_content": null,
            "_view_module": "@jupyter-widgets/base",
            "overflow": null,
            "_model_module_version": "1.2.0",
            "_view_count": null,
            "flex_flow": null,
            "width": null,
            "min_width": null,
            "border": null,
            "align_items": null,
            "bottom": null,
            "_model_module": "@jupyter-widgets/base",
            "top": null,
            "grid_column": null,
            "overflow_y": null,
            "overflow_x": null,
            "grid_auto_flow": null,
            "grid_area": null,
            "grid_template_columns": null,
            "flex": null,
            "_model_name": "LayoutModel",
            "justify_items": null,
            "grid_row": null,
            "max_height": null,
            "align_content": null,
            "visibility": null,
            "align_self": null,
            "height": null,
            "min_height": null,
            "padding": null,
            "grid_auto_rows": null,
            "grid_gap": null,
            "max_width": null,
            "order": null,
            "_view_module_version": "1.2.0",
            "grid_template_areas": null,
            "object_position": null,
            "object_fit": null,
            "grid_auto_columns": null,
            "margin": null,
            "display": null,
            "left": null
          }
        },
        "06db400ee1e048b3902cb7a69779ca73": {
          "model_module": "@jupyter-widgets/controls",
          "model_name": "HBoxModel",
          "model_module_version": "1.5.0",
          "state": {
            "_view_name": "HBoxView",
            "_dom_classes": [],
            "_model_name": "HBoxModel",
            "_view_module": "@jupyter-widgets/controls",
            "_model_module_version": "1.5.0",
            "_view_count": null,
            "_view_module_version": "1.5.0",
            "box_style": "",
            "layout": "IPY_MODEL_e73fc315e42a4d2e876ea1619f4b4676",
            "_model_module": "@jupyter-widgets/controls",
            "children": [
              "IPY_MODEL_c392dd4264df49c5b1f7ff9e7ee7224c",
              "IPY_MODEL_820bc0d0380f469cbaafa42dc6e3375d",
              "IPY_MODEL_483d6c301c2b4e64940f170cc304e97a"
            ]
          }
        },
        "e73fc315e42a4d2e876ea1619f4b4676": {
          "model_module": "@jupyter-widgets/base",
          "model_name": "LayoutModel",
          "model_module_version": "1.2.0",
          "state": {
            "_view_name": "LayoutView",
            "grid_template_rows": null,
            "right": null,
            "justify_content": null,
            "_view_module": "@jupyter-widgets/base",
            "overflow": null,
            "_model_module_version": "1.2.0",
            "_view_count": null,
            "flex_flow": null,
            "width": null,
            "min_width": null,
            "border": null,
            "align_items": null,
            "bottom": null,
            "_model_module": "@jupyter-widgets/base",
            "top": null,
            "grid_column": null,
            "overflow_y": null,
            "overflow_x": null,
            "grid_auto_flow": null,
            "grid_area": null,
            "grid_template_columns": null,
            "flex": null,
            "_model_name": "LayoutModel",
            "justify_items": null,
            "grid_row": null,
            "max_height": null,
            "align_content": null,
            "visibility": null,
            "align_self": null,
            "height": null,
            "min_height": null,
            "padding": null,
            "grid_auto_rows": null,
            "grid_gap": null,
            "max_width": null,
            "order": null,
            "_view_module_version": "1.2.0",
            "grid_template_areas": null,
            "object_position": null,
            "object_fit": null,
            "grid_auto_columns": null,
            "margin": null,
            "display": null,
            "left": null
          }
        },
        "c392dd4264df49c5b1f7ff9e7ee7224c": {
          "model_module": "@jupyter-widgets/controls",
          "model_name": "HTMLModel",
          "model_module_version": "1.5.0",
          "state": {
            "_view_name": "HTMLView",
            "style": "IPY_MODEL_a41fb3e484e14144aa821ef2a0461b9d",
            "_dom_classes": [],
            "description": "",
            "_model_name": "HTMLModel",
            "placeholder": "​",
            "_view_module": "@jupyter-widgets/controls",
            "_model_module_version": "1.5.0",
            "value": "Downloading: 100%",
            "_view_count": null,
            "_view_module_version": "1.5.0",
            "description_tooltip": null,
            "_model_module": "@jupyter-widgets/controls",
            "layout": "IPY_MODEL_1cc7a1d7ef9f4c88b6341ef51ebea647"
          }
        },
        "820bc0d0380f469cbaafa42dc6e3375d": {
          "model_module": "@jupyter-widgets/controls",
          "model_name": "FloatProgressModel",
          "model_module_version": "1.5.0",
          "state": {
            "_view_name": "ProgressView",
            "style": "IPY_MODEL_f634d60c231b45cdbb7d89dfc95a6d4e",
            "_dom_classes": [],
            "description": "",
            "_model_name": "FloatProgressModel",
            "bar_style": "success",
            "max": 466062,
            "_view_module": "@jupyter-widgets/controls",
            "_model_module_version": "1.5.0",
            "value": 466062,
            "_view_count": null,
            "_view_module_version": "1.5.0",
            "orientation": "horizontal",
            "min": 0,
            "description_tooltip": null,
            "_model_module": "@jupyter-widgets/controls",
            "layout": "IPY_MODEL_d4eac8d9d1564e70bdfc343d87e01d33"
          }
        },
        "483d6c301c2b4e64940f170cc304e97a": {
          "model_module": "@jupyter-widgets/controls",
          "model_name": "HTMLModel",
          "model_module_version": "1.5.0",
          "state": {
            "_view_name": "HTMLView",
            "style": "IPY_MODEL_70edd63aa6f340359c771566d7fba766",
            "_dom_classes": [],
            "description": "",
            "_model_name": "HTMLModel",
            "placeholder": "​",
            "_view_module": "@jupyter-widgets/controls",
            "_model_module_version": "1.5.0",
            "value": " 466k/466k [00:00&lt;00:00, 414kB/s]",
            "_view_count": null,
            "_view_module_version": "1.5.0",
            "description_tooltip": null,
            "_model_module": "@jupyter-widgets/controls",
            "layout": "IPY_MODEL_651761945d5c4ec5ba50ac50a39eb771"
          }
        },
        "a41fb3e484e14144aa821ef2a0461b9d": {
          "model_module": "@jupyter-widgets/controls",
          "model_name": "DescriptionStyleModel",
          "model_module_version": "1.5.0",
          "state": {
            "_view_name": "StyleView",
            "_model_name": "DescriptionStyleModel",
            "description_width": "",
            "_view_module": "@jupyter-widgets/base",
            "_model_module_version": "1.5.0",
            "_view_count": null,
            "_view_module_version": "1.2.0",
            "_model_module": "@jupyter-widgets/controls"
          }
        },
        "1cc7a1d7ef9f4c88b6341ef51ebea647": {
          "model_module": "@jupyter-widgets/base",
          "model_name": "LayoutModel",
          "model_module_version": "1.2.0",
          "state": {
            "_view_name": "LayoutView",
            "grid_template_rows": null,
            "right": null,
            "justify_content": null,
            "_view_module": "@jupyter-widgets/base",
            "overflow": null,
            "_model_module_version": "1.2.0",
            "_view_count": null,
            "flex_flow": null,
            "width": null,
            "min_width": null,
            "border": null,
            "align_items": null,
            "bottom": null,
            "_model_module": "@jupyter-widgets/base",
            "top": null,
            "grid_column": null,
            "overflow_y": null,
            "overflow_x": null,
            "grid_auto_flow": null,
            "grid_area": null,
            "grid_template_columns": null,
            "flex": null,
            "_model_name": "LayoutModel",
            "justify_items": null,
            "grid_row": null,
            "max_height": null,
            "align_content": null,
            "visibility": null,
            "align_self": null,
            "height": null,
            "min_height": null,
            "padding": null,
            "grid_auto_rows": null,
            "grid_gap": null,
            "max_width": null,
            "order": null,
            "_view_module_version": "1.2.0",
            "grid_template_areas": null,
            "object_position": null,
            "object_fit": null,
            "grid_auto_columns": null,
            "margin": null,
            "display": null,
            "left": null
          }
        },
        "f634d60c231b45cdbb7d89dfc95a6d4e": {
          "model_module": "@jupyter-widgets/controls",
          "model_name": "ProgressStyleModel",
          "model_module_version": "1.5.0",
          "state": {
            "_view_name": "StyleView",
            "_model_name": "ProgressStyleModel",
            "description_width": "",
            "_view_module": "@jupyter-widgets/base",
            "_model_module_version": "1.5.0",
            "_view_count": null,
            "_view_module_version": "1.2.0",
            "bar_color": null,
            "_model_module": "@jupyter-widgets/controls"
          }
        },
        "d4eac8d9d1564e70bdfc343d87e01d33": {
          "model_module": "@jupyter-widgets/base",
          "model_name": "LayoutModel",
          "model_module_version": "1.2.0",
          "state": {
            "_view_name": "LayoutView",
            "grid_template_rows": null,
            "right": null,
            "justify_content": null,
            "_view_module": "@jupyter-widgets/base",
            "overflow": null,
            "_model_module_version": "1.2.0",
            "_view_count": null,
            "flex_flow": null,
            "width": null,
            "min_width": null,
            "border": null,
            "align_items": null,
            "bottom": null,
            "_model_module": "@jupyter-widgets/base",
            "top": null,
            "grid_column": null,
            "overflow_y": null,
            "overflow_x": null,
            "grid_auto_flow": null,
            "grid_area": null,
            "grid_template_columns": null,
            "flex": null,
            "_model_name": "LayoutModel",
            "justify_items": null,
            "grid_row": null,
            "max_height": null,
            "align_content": null,
            "visibility": null,
            "align_self": null,
            "height": null,
            "min_height": null,
            "padding": null,
            "grid_auto_rows": null,
            "grid_gap": null,
            "max_width": null,
            "order": null,
            "_view_module_version": "1.2.0",
            "grid_template_areas": null,
            "object_position": null,
            "object_fit": null,
            "grid_auto_columns": null,
            "margin": null,
            "display": null,
            "left": null
          }
        },
        "70edd63aa6f340359c771566d7fba766": {
          "model_module": "@jupyter-widgets/controls",
          "model_name": "DescriptionStyleModel",
          "model_module_version": "1.5.0",
          "state": {
            "_view_name": "StyleView",
            "_model_name": "DescriptionStyleModel",
            "description_width": "",
            "_view_module": "@jupyter-widgets/base",
            "_model_module_version": "1.5.0",
            "_view_count": null,
            "_view_module_version": "1.2.0",
            "_model_module": "@jupyter-widgets/controls"
          }
        },
        "651761945d5c4ec5ba50ac50a39eb771": {
          "model_module": "@jupyter-widgets/base",
          "model_name": "LayoutModel",
          "model_module_version": "1.2.0",
          "state": {
            "_view_name": "LayoutView",
            "grid_template_rows": null,
            "right": null,
            "justify_content": null,
            "_view_module": "@jupyter-widgets/base",
            "overflow": null,
            "_model_module_version": "1.2.0",
            "_view_count": null,
            "flex_flow": null,
            "width": null,
            "min_width": null,
            "border": null,
            "align_items": null,
            "bottom": null,
            "_model_module": "@jupyter-widgets/base",
            "top": null,
            "grid_column": null,
            "overflow_y": null,
            "overflow_x": null,
            "grid_auto_flow": null,
            "grid_area": null,
            "grid_template_columns": null,
            "flex": null,
            "_model_name": "LayoutModel",
            "justify_items": null,
            "grid_row": null,
            "max_height": null,
            "align_content": null,
            "visibility": null,
            "align_self": null,
            "height": null,
            "min_height": null,
            "padding": null,
            "grid_auto_rows": null,
            "grid_gap": null,
            "max_width": null,
            "order": null,
            "_view_module_version": "1.2.0",
            "grid_template_areas": null,
            "object_position": null,
            "object_fit": null,
            "grid_auto_columns": null,
            "margin": null,
            "display": null,
            "left": null
          }
        },
        "748f31700bce41f782675aa546c0a71d": {
          "model_module": "@jupyter-widgets/controls",
          "model_name": "HBoxModel",
          "model_module_version": "1.5.0",
          "state": {
            "_view_name": "HBoxView",
            "_dom_classes": [],
            "_model_name": "HBoxModel",
            "_view_module": "@jupyter-widgets/controls",
            "_model_module_version": "1.5.0",
            "_view_count": null,
            "_view_module_version": "1.5.0",
            "box_style": "",
            "layout": "IPY_MODEL_2fd2274fd6c84c8490c0de110d7e9403",
            "_model_module": "@jupyter-widgets/controls",
            "children": [
              "IPY_MODEL_51ac737ae38246abac7d40cf483fc38f",
              "IPY_MODEL_c3579c5ede6e45e8a630bccf4636fadc",
              "IPY_MODEL_3453e663f2da4701b4c1c90666aaa79b"
            ]
          }
        },
        "2fd2274fd6c84c8490c0de110d7e9403": {
          "model_module": "@jupyter-widgets/base",
          "model_name": "LayoutModel",
          "model_module_version": "1.2.0",
          "state": {
            "_view_name": "LayoutView",
            "grid_template_rows": null,
            "right": null,
            "justify_content": null,
            "_view_module": "@jupyter-widgets/base",
            "overflow": null,
            "_model_module_version": "1.2.0",
            "_view_count": null,
            "flex_flow": null,
            "width": null,
            "min_width": null,
            "border": null,
            "align_items": null,
            "bottom": null,
            "_model_module": "@jupyter-widgets/base",
            "top": null,
            "grid_column": null,
            "overflow_y": null,
            "overflow_x": null,
            "grid_auto_flow": null,
            "grid_area": null,
            "grid_template_columns": null,
            "flex": null,
            "_model_name": "LayoutModel",
            "justify_items": null,
            "grid_row": null,
            "max_height": null,
            "align_content": null,
            "visibility": null,
            "align_self": null,
            "height": null,
            "min_height": null,
            "padding": null,
            "grid_auto_rows": null,
            "grid_gap": null,
            "max_width": null,
            "order": null,
            "_view_module_version": "1.2.0",
            "grid_template_areas": null,
            "object_position": null,
            "object_fit": null,
            "grid_auto_columns": null,
            "margin": null,
            "display": null,
            "left": null
          }
        },
        "51ac737ae38246abac7d40cf483fc38f": {
          "model_module": "@jupyter-widgets/controls",
          "model_name": "HTMLModel",
          "model_module_version": "1.5.0",
          "state": {
            "_view_name": "HTMLView",
            "style": "IPY_MODEL_f26a25c8df72405c9e63c2bcdf693023",
            "_dom_classes": [],
            "description": "",
            "_model_name": "HTMLModel",
            "placeholder": "​",
            "_view_module": "@jupyter-widgets/controls",
            "_model_module_version": "1.5.0",
            "value": "Downloading: 100%",
            "_view_count": null,
            "_view_module_version": "1.5.0",
            "description_tooltip": null,
            "_model_module": "@jupyter-widgets/controls",
            "layout": "IPY_MODEL_9ef4c2b57c7449aca55cc19f7c38868a"
          }
        },
        "c3579c5ede6e45e8a630bccf4636fadc": {
          "model_module": "@jupyter-widgets/controls",
          "model_name": "FloatProgressModel",
          "model_module_version": "1.5.0",
          "state": {
            "_view_name": "ProgressView",
            "style": "IPY_MODEL_3974843d95834ab1844854430002c534",
            "_dom_classes": [],
            "description": "",
            "_model_name": "FloatProgressModel",
            "bar_style": "success",
            "max": 442,
            "_view_module": "@jupyter-widgets/controls",
            "_model_module_version": "1.5.0",
            "value": 442,
            "_view_count": null,
            "_view_module_version": "1.5.0",
            "orientation": "horizontal",
            "min": 0,
            "description_tooltip": null,
            "_model_module": "@jupyter-widgets/controls",
            "layout": "IPY_MODEL_025d2017afed4995a0558dc49a0545a3"
          }
        },
        "3453e663f2da4701b4c1c90666aaa79b": {
          "model_module": "@jupyter-widgets/controls",
          "model_name": "HTMLModel",
          "model_module_version": "1.5.0",
          "state": {
            "_view_name": "HTMLView",
            "style": "IPY_MODEL_d3e1841f8367421cb48f7485bf2a86bb",
            "_dom_classes": [],
            "description": "",
            "_model_name": "HTMLModel",
            "placeholder": "​",
            "_view_module": "@jupyter-widgets/controls",
            "_model_module_version": "1.5.0",
            "value": " 442/442 [00:00&lt;00:00, 10.1kB/s]",
            "_view_count": null,
            "_view_module_version": "1.5.0",
            "description_tooltip": null,
            "_model_module": "@jupyter-widgets/controls",
            "layout": "IPY_MODEL_42457e80595746b8b0132e22c3fc2def"
          }
        },
        "f26a25c8df72405c9e63c2bcdf693023": {
          "model_module": "@jupyter-widgets/controls",
          "model_name": "DescriptionStyleModel",
          "model_module_version": "1.5.0",
          "state": {
            "_view_name": "StyleView",
            "_model_name": "DescriptionStyleModel",
            "description_width": "",
            "_view_module": "@jupyter-widgets/base",
            "_model_module_version": "1.5.0",
            "_view_count": null,
            "_view_module_version": "1.2.0",
            "_model_module": "@jupyter-widgets/controls"
          }
        },
        "9ef4c2b57c7449aca55cc19f7c38868a": {
          "model_module": "@jupyter-widgets/base",
          "model_name": "LayoutModel",
          "model_module_version": "1.2.0",
          "state": {
            "_view_name": "LayoutView",
            "grid_template_rows": null,
            "right": null,
            "justify_content": null,
            "_view_module": "@jupyter-widgets/base",
            "overflow": null,
            "_model_module_version": "1.2.0",
            "_view_count": null,
            "flex_flow": null,
            "width": null,
            "min_width": null,
            "border": null,
            "align_items": null,
            "bottom": null,
            "_model_module": "@jupyter-widgets/base",
            "top": null,
            "grid_column": null,
            "overflow_y": null,
            "overflow_x": null,
            "grid_auto_flow": null,
            "grid_area": null,
            "grid_template_columns": null,
            "flex": null,
            "_model_name": "LayoutModel",
            "justify_items": null,
            "grid_row": null,
            "max_height": null,
            "align_content": null,
            "visibility": null,
            "align_self": null,
            "height": null,
            "min_height": null,
            "padding": null,
            "grid_auto_rows": null,
            "grid_gap": null,
            "max_width": null,
            "order": null,
            "_view_module_version": "1.2.0",
            "grid_template_areas": null,
            "object_position": null,
            "object_fit": null,
            "grid_auto_columns": null,
            "margin": null,
            "display": null,
            "left": null
          }
        },
        "3974843d95834ab1844854430002c534": {
          "model_module": "@jupyter-widgets/controls",
          "model_name": "ProgressStyleModel",
          "model_module_version": "1.5.0",
          "state": {
            "_view_name": "StyleView",
            "_model_name": "ProgressStyleModel",
            "description_width": "",
            "_view_module": "@jupyter-widgets/base",
            "_model_module_version": "1.5.0",
            "_view_count": null,
            "_view_module_version": "1.2.0",
            "bar_color": null,
            "_model_module": "@jupyter-widgets/controls"
          }
        },
        "025d2017afed4995a0558dc49a0545a3": {
          "model_module": "@jupyter-widgets/base",
          "model_name": "LayoutModel",
          "model_module_version": "1.2.0",
          "state": {
            "_view_name": "LayoutView",
            "grid_template_rows": null,
            "right": null,
            "justify_content": null,
            "_view_module": "@jupyter-widgets/base",
            "overflow": null,
            "_model_module_version": "1.2.0",
            "_view_count": null,
            "flex_flow": null,
            "width": null,
            "min_width": null,
            "border": null,
            "align_items": null,
            "bottom": null,
            "_model_module": "@jupyter-widgets/base",
            "top": null,
            "grid_column": null,
            "overflow_y": null,
            "overflow_x": null,
            "grid_auto_flow": null,
            "grid_area": null,
            "grid_template_columns": null,
            "flex": null,
            "_model_name": "LayoutModel",
            "justify_items": null,
            "grid_row": null,
            "max_height": null,
            "align_content": null,
            "visibility": null,
            "align_self": null,
            "height": null,
            "min_height": null,
            "padding": null,
            "grid_auto_rows": null,
            "grid_gap": null,
            "max_width": null,
            "order": null,
            "_view_module_version": "1.2.0",
            "grid_template_areas": null,
            "object_position": null,
            "object_fit": null,
            "grid_auto_columns": null,
            "margin": null,
            "display": null,
            "left": null
          }
        },
        "d3e1841f8367421cb48f7485bf2a86bb": {
          "model_module": "@jupyter-widgets/controls",
          "model_name": "DescriptionStyleModel",
          "model_module_version": "1.5.0",
          "state": {
            "_view_name": "StyleView",
            "_model_name": "DescriptionStyleModel",
            "description_width": "",
            "_view_module": "@jupyter-widgets/base",
            "_model_module_version": "1.5.0",
            "_view_count": null,
            "_view_module_version": "1.2.0",
            "_model_module": "@jupyter-widgets/controls"
          }
        },
        "42457e80595746b8b0132e22c3fc2def": {
          "model_module": "@jupyter-widgets/base",
          "model_name": "LayoutModel",
          "model_module_version": "1.2.0",
          "state": {
            "_view_name": "LayoutView",
            "grid_template_rows": null,
            "right": null,
            "justify_content": null,
            "_view_module": "@jupyter-widgets/base",
            "overflow": null,
            "_model_module_version": "1.2.0",
            "_view_count": null,
            "flex_flow": null,
            "width": null,
            "min_width": null,
            "border": null,
            "align_items": null,
            "bottom": null,
            "_model_module": "@jupyter-widgets/base",
            "top": null,
            "grid_column": null,
            "overflow_y": null,
            "overflow_x": null,
            "grid_auto_flow": null,
            "grid_area": null,
            "grid_template_columns": null,
            "flex": null,
            "_model_name": "LayoutModel",
            "justify_items": null,
            "grid_row": null,
            "max_height": null,
            "align_content": null,
            "visibility": null,
            "align_self": null,
            "height": null,
            "min_height": null,
            "padding": null,
            "grid_auto_rows": null,
            "grid_gap": null,
            "max_width": null,
            "order": null,
            "_view_module_version": "1.2.0",
            "grid_template_areas": null,
            "object_position": null,
            "object_fit": null,
            "grid_auto_columns": null,
            "margin": null,
            "display": null,
            "left": null
          }
        }
      }
    }
  },
  "cells": [
    {
      "cell_type": "markdown",
      "metadata": {
        "id": "06OPV2_k7kYF"
      },
      "source": [
        "Testing *distilled* version of BERT model for text classification."
      ]
    },
    {
      "cell_type": "code",
      "metadata": {
        "id": "zvrETmac4Igj"
      },
      "source": [
        "!pip install transformers\n",
        "!pip install pycld2"
      ],
      "execution_count": null,
      "outputs": []
    },
    {
      "cell_type": "code",
      "metadata": {
        "id": "nvPNEiEN4SJt"
      },
      "source": [
        "import pandas as pd\n",
        "import numpy as np\n",
        "import pycld2 as cld2\n",
        "import tensorflow as tf\n",
        "import sklearn\n",
        "from sklearn import metrics\n",
        "from sklearn.metrics import confusion_matrix\n",
        "from sklearn.model_selection import train_test_split\n",
        "from transformers import DistilBertTokenizer\n",
        "from transformers import TFDistilBertForSequenceClassification\n",
        "import json\n",
        "import gc\n",
        "import seaborn as sns\n",
        "import matplotlib.pyplot as plt"
      ],
      "execution_count": 71,
      "outputs": []
    },
    {
      "cell_type": "code",
      "metadata": {
        "id": "6zyVmh3S4rbO"
      },
      "source": [
        "document_risk = pd.read_csv(\"./qa06_only_having_risk_valuesl.csv\")\n",
        "document_risk = document_risk.rename(columns={'qa06id': 'id', 'qa06name':'title', 'qa06wher':'location','qa06dsc':'report','ty26colo':'label','ty26fakt':'factor'})\n",
        "\n",
        "document = pd.read_csv(\"./qa06_all.csv\")\n",
        "document = document.rename(columns={'qa06id': 'id', 'qa06name':'title', 'qa06wher':'location','qa06dsc':'report'})\n",
        "\n",
        "acronyms = pd.read_excel(\"./kratice.xlsx\")\n",
        "acronyms = acronyms.rename(columns={'kratice':'acronym','Unnamed: 1':'replacement'})"
      ],
      "execution_count": 3,
      "outputs": []
    },
    {
      "cell_type": "markdown",
      "metadata": {
        "id": "Vy_Cjy5a68tS"
      },
      "source": [
        "The only text preparation that is needed before BERT is removing the NaN values and (optionally) modify the acronyms."
      ]
    },
    {
      "cell_type": "code",
      "metadata": {
        "id": "7sZFXkPB5Cqt"
      },
      "source": [
        "def isNaN(string):\n",
        "    return string != string\n",
        "\n",
        "def acronyms_to_words (txt): \n",
        "    for i in range (len(acronyms)):\n",
        "        txt=txt.replace(' ' + acronyms.acronym[i] + ' ',' ' + acronyms.replacement[i] + ' ')\n",
        "    return txt\n",
        "\n",
        "def prep_doc(document,isRisk):\n",
        "    \n",
        "    if isRisk :\n",
        "        doc = pd.DataFrame(columns=['xx', 'report', 'label','factor', 'accident'])\n",
        "    else:\n",
        "        doc = pd.DataFrame(columns=['xx', 'report'])\n",
        "    \n",
        "    for i in range(len(document)):\n",
        "       \n",
        "        if isNaN(document.report[i]):\n",
        "            continue\n",
        "            \n",
        "  # checking the languange with few lines below\n",
        "  # if English and isRelible then continue the process and if not continue with the next report and go through the loop again\n",
        "        isReliable, textBytesFound, details=cld2.detect(document.report[i])\n",
        "        if not isReliable:\n",
        "            continue\n",
        "        if details[0][0]!='ENGLISH':\n",
        "            continue\n",
        "            \n",
        "        prepared_text = acronyms_to_words(document.report[i])\n",
        "       \n",
        "#     Here it is important to know a little bit more about aviation risk classification.\n",
        "#     These reports, according to predetermined parameters, are classified in line with \n",
        "#     the risk factor given in the non-equidistant scale from 1 to 2500. \n",
        "#     Considering this factor, there are 3 classes of events: \n",
        "#         - No accident outcome -Minor injuries or damage - Major or catastrophic accident (including death)\n",
        "#     We defined a feature \"accident\" that contain information about which of these 3 classes each report belong to.\n",
        "#     This was the best way to have any proper and relevant data to classify.\n",
        " \n",
        "#     For better understanding next few lines look the AvioClass.jpg\n",
        "        if isRisk :\n",
        "            if (document.factor[i]==1):\n",
        "                risk_level='no accident outcome'\n",
        "            elif (document.factor[i] in (2,4,20,100)):\n",
        "                risk_level='minor injuries or damage'\n",
        "            else:\n",
        "                risk_level='major or catastrophic accident'\n",
        "            \n",
        "            doc=doc.append({'xx': document.xx[i], 'report': prepared_text, \n",
        "                    'label': document.label[i], 'factor': document.factor[i],\n",
        "                        'accident': risk_level},ignore_index=True)\n",
        "        \n",
        "        else:\n",
        "            doc=doc.append({'xx': document.xx[i], 'report': prepared_text}, ignore_index=True) \n",
        "    return doc"
      ],
      "execution_count": 4,
      "outputs": []
    },
    {
      "cell_type": "markdown",
      "metadata": {
        "id": "AKMyjb178KS_"
      },
      "source": [
        "Preparing our data:"
      ]
    },
    {
      "cell_type": "code",
      "metadata": {
        "id": "HGn5Izab63So"
      },
      "source": [
        "doc_for_BERT = prep_doc(document_risk, True)"
      ],
      "execution_count": 5,
      "outputs": []
    },
    {
      "cell_type": "code",
      "metadata": {
        "colab": {
          "base_uri": "https://localhost:8080/",
          "height": 204
        },
        "id": "wcfxMN8B8S9b",
        "outputId": "5f42e741-f8a1-476f-81a0-473b0a588331"
      },
      "source": [
        "doc_for_BERT.head()"
      ],
      "execution_count": 6,
      "outputs": [
        {
          "output_type": "execute_result",
          "data": {
            "text/html": [
              "<div>\n",
              "<style scoped>\n",
              "    .dataframe tbody tr th:only-of-type {\n",
              "        vertical-align: middle;\n",
              "    }\n",
              "\n",
              "    .dataframe tbody tr th {\n",
              "        vertical-align: top;\n",
              "    }\n",
              "\n",
              "    .dataframe thead th {\n",
              "        text-align: right;\n",
              "    }\n",
              "</style>\n",
              "<table border=\"1\" class=\"dataframe\">\n",
              "  <thead>\n",
              "    <tr style=\"text-align: right;\">\n",
              "      <th></th>\n",
              "      <th>xx</th>\n",
              "      <th>report</th>\n",
              "      <th>label</th>\n",
              "      <th>factor</th>\n",
              "      <th>accident</th>\n",
              "    </tr>\n",
              "  </thead>\n",
              "  <tbody>\n",
              "    <tr>\n",
              "      <th>0</th>\n",
              "      <td>2522377</td>\n",
              "      <td>CM2 was performing ILS RAW data approach on tr...</td>\n",
              "      <td>0</td>\n",
              "      <td>2</td>\n",
              "      <td>minor injuries or damage</td>\n",
              "    </tr>\n",
              "    <tr>\n",
              "      <th>1</th>\n",
              "      <td>2346650</td>\n",
              "      <td>Bru approach rw 25L ILS. Still on asighned hea...</td>\n",
              "      <td>0</td>\n",
              "      <td>2</td>\n",
              "      <td>minor injuries or damage</td>\n",
              "    </tr>\n",
              "    <tr>\n",
              "      <th>2</th>\n",
              "      <td>2047008</td>\n",
              "      <td>There were no security seals on board takeoff ...</td>\n",
              "      <td>0</td>\n",
              "      <td>1</td>\n",
              "      <td>no accident outcome</td>\n",
              "    </tr>\n",
              "    <tr>\n",
              "      <th>3</th>\n",
              "      <td>2528229</td>\n",
              "      <td>VIE RWY 34\\r\\nAt position RH base radar HDG 24...</td>\n",
              "      <td>1</td>\n",
              "      <td>20</td>\n",
              "      <td>minor injuries or damage</td>\n",
              "    </tr>\n",
              "    <tr>\n",
              "      <th>4</th>\n",
              "      <td>2139606</td>\n",
              "      <td>Electrical smell found by cabin crew member in...</td>\n",
              "      <td>0</td>\n",
              "      <td>1</td>\n",
              "      <td>no accident outcome</td>\n",
              "    </tr>\n",
              "  </tbody>\n",
              "</table>\n",
              "</div>"
            ],
            "text/plain": [
              "        xx  ...                  accident\n",
              "0  2522377  ...  minor injuries or damage\n",
              "1  2346650  ...  minor injuries or damage\n",
              "2  2047008  ...       no accident outcome\n",
              "3  2528229  ...  minor injuries or damage\n",
              "4  2139606  ...       no accident outcome\n",
              "\n",
              "[5 rows x 5 columns]"
            ]
          },
          "metadata": {},
          "execution_count": 6
        }
      ]
    },
    {
      "cell_type": "markdown",
      "metadata": {
        "id": "9x_BcXrV9M7K"
      },
      "source": [
        "First, a little bit of organizing the *accident* feature"
      ]
    },
    {
      "cell_type": "code",
      "metadata": {
        "colab": {
          "base_uri": "https://localhost:8080/"
        },
        "id": "Vf_hCRc38zFV",
        "outputId": "98605204-ffd4-4cf9-8e80-34a4c82581d5"
      },
      "source": [
        "doc_for_BERT.accident.unique()"
      ],
      "execution_count": 7,
      "outputs": [
        {
          "output_type": "execute_result",
          "data": {
            "text/plain": [
              "array(['minor injuries or damage', 'no accident outcome',\n",
              "       'major or catastrophic accident'], dtype=object)"
            ]
          },
          "metadata": {},
          "execution_count": 7
        }
      ]
    },
    {
      "cell_type": "code",
      "metadata": {
        "id": "vkKvHvgV95fE"
      },
      "source": [
        "# Categories (3 of them) will be assigned to a unique number \n",
        "\n",
        "doc_for_BERT['encoded_category'] = doc_for_BERT['accident'].astype('category').cat.codes\n",
        "doc_for_BERT.encoded_category.unique()"
      ],
      "execution_count": null,
      "outputs": []
    },
    {
      "cell_type": "markdown",
      "metadata": {
        "id": "XXLpL_ra_ADB"
      },
      "source": [
        "Making a dictionary of categories"
      ]
    },
    {
      "cell_type": "code",
      "metadata": {
        "colab": {
          "base_uri": "https://localhost:8080/"
        },
        "id": "kjQDTiKR-dcs",
        "outputId": "db18f07c-09ce-4b8e-a6af-56c32ad5407e"
      },
      "source": [
        "cat = doc_for_BERT.accident.unique()\n",
        "unique_nmb = doc_for_BERT.encoded_category.unique()\n",
        "categories_dict = dict(zip(unique_nmb,cat))\n",
        "categories_dict"
      ],
      "execution_count": 58,
      "outputs": [
        {
          "output_type": "execute_result",
          "data": {
            "text/plain": [
              "{0: 'major or catastrophic accident',\n",
              " 1: 'minor injuries or damage',\n",
              " 2: 'no accident outcome'}"
            ]
          },
          "metadata": {},
          "execution_count": 58
        }
      ]
    },
    {
      "cell_type": "markdown",
      "metadata": {
        "id": "85t_6XwD_hGw"
      },
      "source": [
        "Making a list of prepared data for future model"
      ]
    },
    {
      "cell_type": "code",
      "metadata": {
        "id": "BAiaa9c9-82R"
      },
      "source": [
        "final_reports = doc_for_BERT[\"report\"].to_list() # (only text) data prepared for model\n",
        "final_category = doc_for_BERT[\"encoded_category\"].to_list() # our new category labels for each report"
      ],
      "execution_count": 10,
      "outputs": []
    },
    {
      "cell_type": "markdown",
      "metadata": {
        "id": "FiQrFnfjAJTX"
      },
      "source": [
        "Now, data is to be splitted into three parts, training set on the one side (in purpose to train the model) and validation and test sets on the other side (to help us calculate the performance of the model).\n",
        "\n"
      ]
    },
    {
      "cell_type": "code",
      "metadata": {
        "id": "HuhTn6jU_4r9"
      },
      "source": [
        "# Split Train and Validation data\n",
        "train_text, val_text, train_cat, val_cat = train_test_split(final_reports, final_category, test_size=0.3, random_state=0)\n",
        "\n",
        "# Keep some data for testing\n",
        "val_text, test_text, val_cat, test_cat = train_test_split(val_text, val_cat, test_size=0.5, random_state=0)\n"
      ],
      "execution_count": 11,
      "outputs": []
    },
    {
      "cell_type": "markdown",
      "metadata": {
        "id": "G4qruLzCp11l"
      },
      "source": [
        "Since we didn't tokenize the reports, it will be done by tokenizer from *HuggingFace's* transformers library that is compatible with *HuggingFace's* model we are going to use. <br> For this classification task that model is going to be *TFDistilBertForSequenceClassification* (*HuggingFace*). <br> Because of that, first we will use *DistilBertTokenizer* to tokenize our texts. <br> *TFDistilBertForSequenceClassification* will fine-tune the pre-trained model using the output from the tokenizer. <br>\n",
        "Outputs of *DistilBertTokenizer* are **input_ids** and **attention_mask**. They are needed arguments in DistilBert model."
      ]
    },
    {
      "cell_type": "code",
      "metadata": {
        "colab": {
          "base_uri": "https://localhost:8080/",
          "height": 145,
          "referenced_widgets": [
            "b1f72ad7f5ad4910b76c400e5d710696",
            "67322c5202d946fa9622a5969833c514",
            "f02d8b025be64e3ebcb935f6cad208f1",
            "a5f00e2a8e524e249f9a0a0afeee9b06",
            "a132d3b18ec9484faa5a87aaefbbc13b",
            "8dc0c13cb0924463a6299be512ea14f2",
            "61db7a42091049f88089c6b0611debe6",
            "0b63ccb701df484eaac71fd3ca85e1ad",
            "311bc7de86b1468095709ac282bb48f6",
            "bd24a0124282472fb3a01ce3e2cd2bd0",
            "22a3d16b90234f24ba7339d186ab842a",
            "cc54a458dca543fd8d7d9120b5f234a8",
            "c4f83978dc8b416189134fa5c8aa0253",
            "228e8ab65056483cb55d4dbbe7f1ce00",
            "4e6750ab9d6e46798690a5fcc35641c0",
            "07afabe6c8a941cb9b95f0f164f4c762",
            "ccbe6f88246245718efbef3ac543086e",
            "ee59bb0c6ed24b42a09778b553e38ada",
            "fddfa5ca21564f97a53af3e736ec6319",
            "8d5bb98a6d7e4716aa4512e684a37412",
            "da225fd99e954adc8752ef53eae502e4",
            "0a0be757cd904e3489a1623026ae1170",
            "06db400ee1e048b3902cb7a69779ca73",
            "e73fc315e42a4d2e876ea1619f4b4676",
            "c392dd4264df49c5b1f7ff9e7ee7224c",
            "820bc0d0380f469cbaafa42dc6e3375d",
            "483d6c301c2b4e64940f170cc304e97a",
            "a41fb3e484e14144aa821ef2a0461b9d",
            "1cc7a1d7ef9f4c88b6341ef51ebea647",
            "f634d60c231b45cdbb7d89dfc95a6d4e",
            "d4eac8d9d1564e70bdfc343d87e01d33",
            "70edd63aa6f340359c771566d7fba766",
            "651761945d5c4ec5ba50ac50a39eb771",
            "748f31700bce41f782675aa546c0a71d",
            "2fd2274fd6c84c8490c0de110d7e9403",
            "51ac737ae38246abac7d40cf483fc38f",
            "c3579c5ede6e45e8a630bccf4636fadc",
            "3453e663f2da4701b4c1c90666aaa79b",
            "f26a25c8df72405c9e63c2bcdf693023",
            "9ef4c2b57c7449aca55cc19f7c38868a",
            "3974843d95834ab1844854430002c534",
            "025d2017afed4995a0558dc49a0545a3",
            "d3e1841f8367421cb48f7485bf2a86bb",
            "42457e80595746b8b0132e22c3fc2def"
          ]
        },
        "id": "ztTn1JKNCfd7",
        "outputId": "36103681-078e-45e8-8dde-7a1056dab37a"
      },
      "source": [
        "tokenizer = DistilBertTokenizer.from_pretrained('distilbert-base-uncased')\n",
        "train_encodings = tokenizer(train_text, truncation=True, padding=True)\n",
        "val_encodings = tokenizer(val_text, truncation=True, padding=True)\n",
        "test_encodings = tokenizer(test_text, truncation=True, padding=True)"
      ],
      "execution_count": 12,
      "outputs": [
        {
          "output_type": "display_data",
          "data": {
            "application/vnd.jupyter.widget-view+json": {
              "model_id": "b1f72ad7f5ad4910b76c400e5d710696",
              "version_minor": 0,
              "version_major": 2
            },
            "text/plain": [
              "Downloading:   0%|          | 0.00/232k [00:00<?, ?B/s]"
            ]
          },
          "metadata": {}
        },
        {
          "output_type": "display_data",
          "data": {
            "application/vnd.jupyter.widget-view+json": {
              "model_id": "cc54a458dca543fd8d7d9120b5f234a8",
              "version_minor": 0,
              "version_major": 2
            },
            "text/plain": [
              "Downloading:   0%|          | 0.00/28.0 [00:00<?, ?B/s]"
            ]
          },
          "metadata": {}
        },
        {
          "output_type": "display_data",
          "data": {
            "application/vnd.jupyter.widget-view+json": {
              "model_id": "06db400ee1e048b3902cb7a69779ca73",
              "version_minor": 0,
              "version_major": 2
            },
            "text/plain": [
              "Downloading:   0%|          | 0.00/466k [00:00<?, ?B/s]"
            ]
          },
          "metadata": {}
        },
        {
          "output_type": "display_data",
          "data": {
            "application/vnd.jupyter.widget-view+json": {
              "model_id": "748f31700bce41f782675aa546c0a71d",
              "version_minor": 0,
              "version_major": 2
            },
            "text/plain": [
              "Downloading:   0%|          | 0.00/442 [00:00<?, ?B/s]"
            ]
          },
          "metadata": {}
        }
      ]
    },
    {
      "cell_type": "markdown",
      "metadata": {
        "id": "puXwysoitJGJ"
      },
      "source": [
        "Before the fine-tuning, we need to convert our input encodings into a TensorFlow Dataset object."
      ]
    },
    {
      "cell_type": "code",
      "metadata": {
        "id": "T49WBHy9s9rg"
      },
      "source": [
        "train_dataset = tf.data.Dataset.from_tensor_slices((\n",
        "    dict(train_encodings),\n",
        "    train_cat\n",
        "))\n",
        "val_dataset = tf.data.Dataset.from_tensor_slices((\n",
        "    dict(val_encodings),\n",
        "    val_cat\n",
        "))\n",
        "test_dataset = tf.data.Dataset.from_tensor_slices((\n",
        "    dict(test_encodings),\n",
        "    test_cat\n",
        "))"
      ],
      "execution_count": 13,
      "outputs": []
    },
    {
      "cell_type": "markdown",
      "metadata": {
        "id": "qXGY3J9WtsDA"
      },
      "source": [
        "*from_pretrained()* method to initialize a pre-trained model."
      ]
    },
    {
      "cell_type": "code",
      "metadata": {
        "id": "vueg2lgrtsPK"
      },
      "source": [
        "model = TFDistilBertForSequenceClassification.from_pretrained('distilbert-base-uncased', num_labels=4)\n",
        "\n",
        "optimizer = tf.keras.optimizers.Adam(learning_rate=2e-5)\n",
        "model.compile(optimizer=optimizer, loss=model.compute_loss, metrics=['accuracy'])"
      ],
      "execution_count": null,
      "outputs": []
    },
    {
      "cell_type": "markdown",
      "metadata": {
        "id": "YOq1R3iVt60N"
      },
      "source": [
        "Next step is fitting the model on our dataset"
      ]
    },
    {
      "cell_type": "code",
      "metadata": {
        "id": "aTOODu6-t6C7"
      },
      "source": [
        "NMB_EPOCHS=6"
      ],
      "execution_count": 15,
      "outputs": []
    },
    {
      "cell_type": "code",
      "metadata": {
        "colab": {
          "base_uri": "https://localhost:8080/"
        },
        "id": "WzB_zezit6MU",
        "outputId": "64005e3a-b858-4d5a-cd80-aff59bd7c903"
      },
      "source": [
        "history = model.fit(train_dataset.shuffle(1000).batch(16), epochs=NMB_EPOCHS, batch_size=16,\n",
        "          validation_data=val_dataset.shuffle(1000).batch(16))"
      ],
      "execution_count": 16,
      "outputs": [
        {
          "output_type": "stream",
          "text": [
            "Epoch 1/6\n",
            "WARNING:tensorflow:The parameters `output_attentions`, `output_hidden_states` and `use_cache` cannot be updated when calling a model.They have to be set to True/False in the config object (i.e.: `config=XConfig.from_pretrained('name', output_attentions=True)`).\n",
            "WARNING:tensorflow:AutoGraph could not transform <bound method Socket.send of <zmq.Socket(zmq.PUSH) at 0x7f86e173df30>> and will run it as-is.\n",
            "Please report this to the TensorFlow team. When filing the bug, set the verbosity to 10 (on Linux, `export AUTOGRAPH_VERBOSITY=10`) and attach the full output.\n",
            "Cause: module, class, method, function, traceback, frame, or code object was expected, got cython_function_or_method\n",
            "To silence this warning, decorate the function with @tf.autograph.experimental.do_not_convert\n",
            "WARNING: AutoGraph could not transform <bound method Socket.send of <zmq.Socket(zmq.PUSH) at 0x7f86e173df30>> and will run it as-is.\n",
            "Please report this to the TensorFlow team. When filing the bug, set the verbosity to 10 (on Linux, `export AUTOGRAPH_VERBOSITY=10`) and attach the full output.\n",
            "Cause: module, class, method, function, traceback, frame, or code object was expected, got cython_function_or_method\n",
            "To silence this warning, decorate the function with @tf.autograph.experimental.do_not_convert\n",
            "WARNING:tensorflow:AutoGraph could not transform <function wrap at 0x7f86fc8f4950> and will run it as-is.\n",
            "Cause: while/else statement not yet supported\n",
            "To silence this warning, decorate the function with @tf.autograph.experimental.do_not_convert\n",
            "WARNING: AutoGraph could not transform <function wrap at 0x7f86fc8f4950> and will run it as-is.\n",
            "Cause: while/else statement not yet supported\n",
            "To silence this warning, decorate the function with @tf.autograph.experimental.do_not_convert\n",
            "WARNING:tensorflow:The parameter `return_dict` cannot be set in graph mode and will always be set to `True`.\n",
            "WARNING:tensorflow:The parameters `output_attentions`, `output_hidden_states` and `use_cache` cannot be updated when calling a model.They have to be set to True/False in the config object (i.e.: `config=XConfig.from_pretrained('name', output_attentions=True)`).\n",
            "WARNING:tensorflow:The parameter `return_dict` cannot be set in graph mode and will always be set to `True`.\n",
            "125/125 [==============================] - ETA: 0s - loss: 0.9934 - accuracy: 0.5554WARNING:tensorflow:The parameters `output_attentions`, `output_hidden_states` and `use_cache` cannot be updated when calling a model.They have to be set to True/False in the config object (i.e.: `config=XConfig.from_pretrained('name', output_attentions=True)`).\n",
            "WARNING:tensorflow:The parameter `return_dict` cannot be set in graph mode and will always be set to `True`.\n",
            "125/125 [==============================] - 277s 2s/step - loss: 0.9934 - accuracy: 0.5554 - val_loss: 0.9202 - val_accuracy: 0.5701\n",
            "Epoch 2/6\n",
            "125/125 [==============================] - 231s 2s/step - loss: 0.8926 - accuracy: 0.5805 - val_loss: 0.8898 - val_accuracy: 0.5701\n",
            "Epoch 3/6\n",
            "125/125 [==============================] - 232s 2s/step - loss: 0.8002 - accuracy: 0.6511 - val_loss: 0.9306 - val_accuracy: 0.5187\n",
            "Epoch 4/6\n",
            "125/125 [==============================] - 231s 2s/step - loss: 0.5884 - accuracy: 0.7865 - val_loss: 1.0500 - val_accuracy: 0.5654\n",
            "Epoch 5/6\n",
            "125/125 [==============================] - 231s 2s/step - loss: 0.3611 - accuracy: 0.8802 - val_loss: 1.2697 - val_accuracy: 0.5327\n",
            "Epoch 6/6\n",
            "125/125 [==============================] - 232s 2s/step - loss: 0.2266 - accuracy: 0.9258 - val_loss: 1.4311 - val_accuracy: 0.5491\n"
          ],
          "name": "stdout"
        }
      ]
    },
    {
      "cell_type": "markdown",
      "metadata": {
        "id": "JRo_Af5z3BGl"
      },
      "source": [
        "Let's check is 6 epochs maybe too much. With the same function loss and accuracy from train and validation data will be compared"
      ]
    },
    {
      "cell_type": "code",
      "metadata": {
        "id": "Pw053dtIudGQ"
      },
      "source": [
        "def eval_metric(history, metric_name):\n",
        "\n",
        "    metric = history.history[metric_name]\n",
        "    val_metric = history.history['val_' + metric_name]\n",
        "    line = range(1, NMB_EPOCHS + 1)\n",
        "    plt.plot(line, metric, 'bo', label='Train ' + metric_name, color=\"green\", markersize = 3)\n",
        "    plt.plot(line, val_metric, 'b', label='Validation ' + metric_name,color=\"green\", linewidth = 1)\n",
        "    plt.xlabel('Epoch number')\n",
        "    plt.ylabel(metric_name)\n",
        "    plt.title('Comparing training and validation ' + metric_name + ' for model')\n",
        "    plt.legend()\n",
        "    plt.show()"
      ],
      "execution_count": 34,
      "outputs": []
    },
    {
      "cell_type": "code",
      "metadata": {
        "colab": {
          "base_uri": "https://localhost:8080/",
          "height": 295
        },
        "id": "0ehrjQ8J3bW4",
        "outputId": "41ef46cd-d174-41e4-89e5-f0c00bf78ab2"
      },
      "source": [
        "eval_metric(history, 'loss')"
      ],
      "execution_count": 35,
      "outputs": [
        {
          "output_type": "display_data",
          "data": {
            "image/png": "[encoded data removed]",
            "text/plain": [
              "<Figure size 432x288 with 1 Axes>"
            ]
          },
          "metadata": {
            "needs_background": "light"
          }
        }
      ]
    },
    {
      "cell_type": "code",
      "metadata": {
        "colab": {
          "base_uri": "https://localhost:8080/",
          "height": 295
        },
        "id": "RQIHBmYC3jLx",
        "outputId": "f83600de-304c-4590-b120-a494c87ee878"
      },
      "source": [
        "eval_metric(history, 'accuracy')"
      ],
      "execution_count": 36,
      "outputs": [
        {
          "output_type": "display_data",
          "data": {
            "image/png": "[encoded data removed]",
            "text/plain": [
              "<Figure size 432x288 with 1 Axes>"
            ]
          },
          "metadata": {
            "needs_background": "light"
          }
        }
      ]
    },
    {
      "cell_type": "markdown",
      "metadata": {
        "id": "BbjBIdUV5BqG"
      },
      "source": [
        "The graph seen above is a real example of overfitting. Meaning the model set is too well trained and it best fit the train set, but the accuracy for validation set decreases in proportion to the increase in the accuracy of train set. <br>\n",
        "Because of that we are going to repeat the procedure with NMB_EPOCHS = 2."
      ]
    },
    {
      "cell_type": "code",
      "metadata": {
        "id": "MQJjGitI3ztM"
      },
      "source": [
        "NMB_EPOCHS=2"
      ],
      "execution_count": 39,
      "outputs": []
    },
    {
      "cell_type": "code",
      "metadata": {
        "id": "nGGgobX16bdV"
      },
      "source": [
        "history = model.fit(train_dataset.shuffle(1000).batch(16), epochs=NMB_EPOCHS, batch_size=16,\n",
        "          validation_data=val_dataset.shuffle(1000).batch(16))"
      ],
      "execution_count": null,
      "outputs": []
    },
    {
      "cell_type": "markdown",
      "metadata": {
        "id": "jxnYxQJC9cqr"
      },
      "source": [
        "Testing the model\n"
      ]
    },
    {
      "cell_type": "code",
      "metadata": {
        "id": "UZSYq9Fd6eZx"
      },
      "source": [
        "test_prediction_values = []\n",
        "for text in test_text:\n",
        "  predict_input = tokenizer.encode(text,\n",
        "                                 truncation=True,\n",
        "                                 padding=True,\n",
        "                                 return_tensors=\"tf\")\n",
        "\n",
        "  output = model(predict_input)[0]\n",
        "  prediction_value = tf.argmax(output, axis=1).numpy()[0]\n",
        "  test_prediction_values.append(prediction_value)"
      ],
      "execution_count": 44,
      "outputs": []
    },
    {
      "cell_type": "code",
      "metadata": {
        "id": "_8pmTc9r9sFB"
      },
      "source": [
        "test_true= test_cat\n",
        "test_predicted = test_prediction_values"
      ],
      "execution_count": 45,
      "outputs": []
    },
    {
      "cell_type": "code",
      "metadata": {
        "colab": {
          "base_uri": "https://localhost:8080/"
        },
        "id": "rYDiDrKm--vt",
        "outputId": "1adbff32-e6b3-4328-ca56-f2067da75825"
      },
      "source": [
        "categories = list(set(test_cat))\n",
        "category_names = []\n",
        "for value in categories:\n",
        "  category_names.append(categories_dict.get(value))\n",
        "category_names "
      ],
      "execution_count": 59,
      "outputs": [
        {
          "output_type": "execute_result",
          "data": {
            "text/plain": [
              "['major or catastrophic accident',\n",
              " 'minor injuries or damage',\n",
              " 'no accident outcome']"
            ]
          },
          "metadata": {},
          "execution_count": 59
        }
      ]
    },
    {
      "cell_type": "markdown",
      "metadata": {
        "id": "QzdpAYQ2A3aS"
      },
      "source": [
        "Confusion matrix for test predictions:"
      ]
    },
    {
      "cell_type": "code",
      "metadata": {
        "colab": {
          "base_uri": "https://localhost:8080/",
          "height": 444
        },
        "id": "7i-II8UP_bQE",
        "outputId": "6801c0ac-00b3-47ba-acca-5b3e96e01aef"
      },
      "source": [
        "test_mat = confusion_matrix(test_true, test_predicted)\n",
        "\n",
        "fig, ax = plt.subplots(figsize=(10,7))\n",
        "sns.heatmap(test_mat, annot=True, fmt='d',\n",
        "            xticklabels=category_names, yticklabels=category_names, cmap=\"Blues\")\n",
        "plt.ylabel('True')\n",
        "plt.xlabel('Predicted')\n",
        "plt.show()"
      ],
      "execution_count": 68,
      "outputs": [
        {
          "output_type": "display_data",
          "data": {
            "image/png": "[encoded data removed]",
            "text/plain": [
              "<Figure size 720x504 with 2 Axes>"
            ]
          },
          "metadata": {
            "needs_background": "light"
          }
        }
      ]
    },
    {
      "cell_type": "markdown",
      "metadata": {
        "id": "1Ax0ehu4CJrQ"
      },
      "source": [
        "Here is also the performance metrics of the model:"
      ]
    },
    {
      "cell_type": "code",
      "metadata": {
        "colab": {
          "base_uri": "https://localhost:8080/"
        },
        "id": "c4HaJ2RM_pTt",
        "outputId": "6766aec4-2a21-473e-cab7-797fb530188d"
      },
      "source": [
        "print(\"TEST DATA: \\n\", metrics.classification_report(test_true, test_predicted, target_names=category_names, zero_division=1))"
      ],
      "execution_count": 72,
      "outputs": [
        {
          "output_type": "stream",
          "text": [
            "TEST DATA: \n",
            "                                 precision    recall  f1-score   support\n",
            "\n",
            "major or catastrophic accident       0.20      0.06      0.09        51\n",
            "      minor injuries or damage       0.64      0.75      0.69       242\n",
            "           no accident outcome       0.52      0.50      0.51       135\n",
            "\n",
            "                      accuracy                           0.59       428\n",
            "                     macro avg       0.45      0.43      0.43       428\n",
            "                  weighted avg       0.55      0.59      0.56       428\n",
            "\n"
          ],
          "name": "stdout"
        }
      ]
    },
    {
      "cell_type": "markdown",
      "metadata": {
        "id": "SKpAfbWMC07D"
      },
      "source": [
        "This model definitely has better performance than Random Forest classifier, but still this percentage of accuracy should not be satisfying. For me, the next step in aviation classification would be training model on larger sets and maybe pretraining tokenizer specially for aviation reports."
      ]
    }
  ]
}