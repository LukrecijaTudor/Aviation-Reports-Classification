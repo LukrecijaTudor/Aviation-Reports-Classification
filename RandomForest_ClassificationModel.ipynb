{
  "nbformat": 4,
  "nbformat_minor": 0,
  "metadata": {
    "colab": {
      "name": "RandomForest ClassificationModel.ipynb",
      "provenance": []
    },
    "kernelspec": {
      "name": "python3",
      "display_name": "Python 3"
    },
    "language_info": {
      "name": "python"
    }
  },
  "cells": [
    {
      "cell_type": "markdown",
      "metadata": {
        "id": "6FuCEMrGE5nz"
      },
      "source": [
        "In ths code, we are going to try the RandomForest Classification model by open source library Scikit-learn (sklearn)"
      ]
    },
    {
      "cell_type": "code",
      "metadata": {
        "id": "ITcWQ9hmE6ME"
      },
      "source": [
        "import pandas as pd\n",
        "import numpy as np\n",
        "\n",
        "from sklearn.model_selection import train_test_split\n",
        "from sklearn.ensemble import RandomForestClassifier\n",
        "from sklearn.metrics import confusion_matrix\n",
        "from statistics import mean\n",
        "\n",
        "import seaborn as sns\n",
        "import math\n",
        "\n",
        "import matplotlib.pyplot as plt\n",
        "%matplotlib inline\n"
      ],
      "execution_count": 35,
      "outputs": []
    },
    {
      "cell_type": "code",
      "metadata": {
        "id": "HqkcEzMpGgmD"
      },
      "source": [
        "document_risk = pd.read_csv(\"./qa06_only_having_risk_valuesl.csv\")\n",
        "document_risk = document_risk.rename(columns={'qa06id': 'id', 'qa06name':'title', 'qa06wher':'location','qa06dsc':'report','ty26colo':'label','ty26fakt':'factor'})"
      ],
      "execution_count": 36,
      "outputs": []
    },
    {
      "cell_type": "code",
      "metadata": {
        "id": "_MFEK5FRE6fG"
      },
      "source": [
        "doc_risk_tok=pd.read_csv('./doc_risk_tok.csv',index_col=0)\n",
        "\n",
        "pdoc_risk=pd.read_csv('./pdoc_risk.csv',index_col=0)\n",
        "tokens_risk=pd.read_csv('./tokens_risk.csv',index_col=0)\n",
        "\n",
        "sparse_risk=pd.read_csv('./sparse_risk.csv',index_col=0)"
      ],
      "execution_count": 37,
      "outputs": []
    },
    {
      "cell_type": "markdown",
      "metadata": {
        "id": "wqpWoCPiFOdW"
      },
      "source": [
        "The performance of the model will be measured with 3 different standard measures: Precision, Recall and F1-score that are all readable from confusion matrix. Confusion matrix is a type of presentation of model performance. There is a number of correct predictions for every combination of real and predicted class belonging. Once again you can use some one-line function from open source library, but I did it myself because of better understanding what it really is. <br> \n",
        "This is how our model will be tested: we are going to split our data into two parts: training part (which will help to train our model) and testing part (which will be used to test the model and measure its performance). After we predict classes for our test data we are going to write the results in a confusion matrix. For spliting data part, we used sklearn library again. <br> <br> Important thing to mention is that we are going to do the whole experiment 10 times. All of it: spliting the data, fitting the model, predicting the classes for testing set, making a confusion matrix and finally measure the precision, recall and F1-measure. Final result will be mean of all 10 experiments."
      ]
    },
    {
      "cell_type": "code",
      "metadata": {
        "colab": {
          "base_uri": "https://localhost:8080/"
        },
        "id": "HKt3gzqeFOsv",
        "outputId": "e636742c-ef9e-40f5-d43a-6a8875136225"
      },
      "source": [
        "RFC_results=pd.DataFrame(columns=['Precision','Recall','F1-score'],index=range(10))\n",
        "\n",
        "for i in range(10):       #10 experiments\n",
        "\n",
        "    zero = np.zeros(shape=(3,3))\n",
        "    conf_matrix=pd.DataFrame(zero,columns=['no accident outcome','minor injuries or damage',\n",
        "                                              'major or catastrophic accident'],\n",
        "                                index=['no accident outcome','minor injuries or damage',\n",
        "                                              'major or catastrophic accident'])\n",
        "\n",
        "\n",
        "    #spliting the data\n",
        "    X_train, X_val, y_train, y_val = train_test_split(doc_risk_tok.index.values, \n",
        "                                                  doc_risk_tok.accident.values, \n",
        "                                                  test_size=0.2, \n",
        "                                                  random_state=42, \n",
        "                                                  stratify=doc_risk_tok.accident.values)\n",
        "    doc_risk_tok['data_type'] = ['not_set']*doc_risk_tok.shape[0]\n",
        "    doc_risk_tok.loc[X_train, 'data_type'] = 'train'\n",
        "    doc_risk_tok.loc[X_val, 'data_type'] = 'val'\n",
        "    \n",
        "\n",
        "#     xx_train is just a list of id numbers of reports that will be used for training the model\n",
        "#     the same is with xx_val\n",
        "    xx_train=doc_risk_tok[doc_risk_tok.data_type=='train'].xx   \n",
        "    xx_val=doc_risk_tok[doc_risk_tok.data_type=='val'].xx\n",
        "    \n",
        "#     there are many features that can be used in this model. In our data set,\n",
        "#     most importan feature is class_weight='balanced' because our set is not balanced\n",
        "#     (there is much more \"no accident outcome\" than \"major or catastrophic accident\" reports)\n",
        "   \n",
        "    clf = RandomForestClassifier(n_estimators=100, class_weight='balanced', max_features=None) #defining the model\n",
        "    clf.fit(sparse_risk.loc[doc_risk_tok[doc_risk_tok.data_type=='train'].xx],doc_risk_tok[doc_risk_tok.data_type=='train'].accident)  #fitting the model\n",
        "\n",
        "#     After we fit the data it is time to predict the classes for our test data, one by one and \n",
        "#     writing it down in our confusion matrix\n",
        "    \n",
        "    for w in xx_val:\n",
        "        risk_level = clf.predict(np.array(sparse_risk.loc[w]).reshape(1,-1))[0]   #predicting the class for each report in test set\n",
        "        conf_matrix.loc[risk_level][doc_risk_tok[doc_risk_tok.xx==w].accident]+=1\n",
        "    \n",
        "\n",
        "    p0=conf_matrix.loc['no accident outcome']['no accident outcome']/(sum(conf_matrix.loc['no accident outcome']))\n",
        "    p1=conf_matrix.loc['minor injuries or damage']['minor injuries or damage']/(sum(conf_matrix.loc['minor injuries or damage']))\n",
        "    p2=conf_matrix.loc['major or catastrophic accident']['major or catastrophic accident']/(sum(conf_matrix.loc['major or catastrophic accident']))\n",
        "    r0=conf_matrix.loc['no accident outcome']['no accident outcome']/(sum(conf_matrix['no accident outcome']))\n",
        "    r1=conf_matrix.loc['minor injuries or damage']['minor injuries or damage']/(sum(conf_matrix['minor injuries or damage']))\n",
        "    r2=conf_matrix.loc['major or catastrophic accident']['major or catastrophic accident']/(sum(conf_matrix['major or catastrophic accident']))\n",
        "    P=mean([p0,p1,p2])\n",
        "    R=mean([r0,r1,r2])\n",
        "    F1=(2*P*R)/(P+R)  # formula for F1-measure\n",
        "\n",
        "    RFC_results.loc[i]['Precision']=P\n",
        "    RFC_results.loc[i]['Recall']=R\n",
        "    RFC_results.loc[i]['F1-score']=F1\n",
        "\n",
        "    print(conf_matrix)\n",
        "    \n",
        "print(RFC_results) #all 10 precisions, recalls and F1 measures\n",
        "RESULTS=pd.DataFrame(columns=['PRECISION','RECALL','F1-SCORE'],index=['Value'])    \n",
        "RESULTS['PRECISION']=sum(RFC_results['Precision'])/10\n",
        "RESULTS['RECALL']=sum(RFC_results['Recall'])/10\n",
        "RESULTS['F1-SCORE']=sum(RFC_results['F1-score'])/10"
      ],
      "execution_count": 39,
      "outputs": [
        {
          "output_type": "stream",
          "text": [
            "                                no accident outcome  ...  major or catastrophic accident\n",
            "no accident outcome                            83.0  ...                            19.0\n",
            "minor injuries or damage                       98.0  ...                            42.0\n",
            "major or catastrophic accident                  3.0  ...                             6.0\n",
            "\n",
            "[3 rows x 3 columns]\n",
            "                                no accident outcome  ...  major or catastrophic accident\n",
            "no accident outcome                            85.0  ...                            21.0\n",
            "minor injuries or damage                       95.0  ...                            39.0\n",
            "major or catastrophic accident                  4.0  ...                             7.0\n",
            "\n",
            "[3 rows x 3 columns]\n",
            "                                no accident outcome  ...  major or catastrophic accident\n",
            "no accident outcome                            92.0  ...                            21.0\n",
            "minor injuries or damage                       89.0  ...                            40.0\n",
            "major or catastrophic accident                  3.0  ...                             6.0\n",
            "\n",
            "[3 rows x 3 columns]\n",
            "                                no accident outcome  ...  major or catastrophic accident\n",
            "no accident outcome                            88.0  ...                            17.0\n",
            "minor injuries or damage                       92.0  ...                            44.0\n",
            "major or catastrophic accident                  4.0  ...                             6.0\n",
            "\n",
            "[3 rows x 3 columns]\n",
            "                                no accident outcome  ...  major or catastrophic accident\n",
            "no accident outcome                            80.0  ...                            18.0\n",
            "minor injuries or damage                       98.0  ...                            42.0\n",
            "major or catastrophic accident                  6.0  ...                             7.0\n",
            "\n",
            "[3 rows x 3 columns]\n",
            "                                no accident outcome  ...  major or catastrophic accident\n",
            "no accident outcome                            87.0  ...                            16.0\n",
            "minor injuries or damage                       93.0  ...                            43.0\n",
            "major or catastrophic accident                  4.0  ...                             8.0\n",
            "\n",
            "[3 rows x 3 columns]\n",
            "                                no accident outcome  ...  major or catastrophic accident\n",
            "no accident outcome                            88.0  ...                            21.0\n",
            "minor injuries or damage                       91.0  ...                            40.0\n",
            "major or catastrophic accident                  5.0  ...                             6.0\n",
            "\n",
            "[3 rows x 3 columns]\n",
            "                                no accident outcome  ...  major or catastrophic accident\n",
            "no accident outcome                            88.0  ...                            16.0\n",
            "minor injuries or damage                       90.0  ...                            43.0\n",
            "major or catastrophic accident                  6.0  ...                             8.0\n",
            "\n",
            "[3 rows x 3 columns]\n",
            "                                no accident outcome  ...  major or catastrophic accident\n",
            "no accident outcome                            88.0  ...                            19.0\n",
            "minor injuries or damage                       92.0  ...                            42.0\n",
            "major or catastrophic accident                  4.0  ...                             6.0\n",
            "\n",
            "[3 rows x 3 columns]\n",
            "                                no accident outcome  ...  major or catastrophic accident\n",
            "no accident outcome                            93.0  ...                            22.0\n",
            "minor injuries or damage                       87.0  ...                            40.0\n",
            "major or catastrophic accident                  4.0  ...                             5.0\n",
            "\n",
            "[3 rows x 3 columns]\n",
            "  Precision    Recall  F1-score\n",
            "0  0.469206  0.427625  0.447452\n",
            "1   0.46491  0.435188  0.449558\n",
            "2  0.492571  0.439789  0.464686\n",
            "3  0.458939  0.427366   0.44259\n",
            "4  0.452442  0.421989  0.436686\n",
            "5   0.50327  0.444822  0.472244\n",
            "6  0.463493  0.432542  0.447483\n",
            "7  0.470797  0.435246  0.452324\n",
            "8  0.489144  0.434613  0.460269\n",
            "9  0.455113  0.430414  0.442419\n"
          ],
          "name": "stdout"
        }
      ]
    },
    {
      "cell_type": "code",
      "metadata": {
        "colab": {
          "base_uri": "https://localhost:8080/"
        },
        "id": "S5Uejnz9FcID",
        "outputId": "17d70439-0f52-4c9c-c2e9-ad2caf96ba48"
      },
      "source": [
        "print (RESULTS)   #if you want to see final results (mean of all 10 results)"
      ],
      "execution_count": 40,
      "outputs": [
        {
          "output_type": "stream",
          "text": [
            "       PRECISION    RECALL  F1-SCORE\n",
            "Value   0.471989  0.432959  0.451571\n"
          ],
          "name": "stdout"
        }
      ]
    },
    {
      "cell_type": "markdown",
      "metadata": {
        "id": "Eb-StgFtFcUp"
      },
      "source": [
        "Down is little code addition showing 10 most important tokens (terms) with this classification model on our data set."
      ]
    },
    {
      "cell_type": "code",
      "metadata": {
        "colab": {
          "base_uri": "https://localhost:8080/",
          "height": 411
        },
        "id": "i6lvYkqwFcdX",
        "outputId": "db8636fd-46e2-4238-f804-dd870ca96219"
      },
      "source": [
        "clf.feature_importances_\n",
        "sorted_idx = clf.feature_importances_.argsort() #indeksi sortiranog vektora\n",
        "#sorted_features = clf.feature_importances_.sort #sortirani vektor\n",
        "ide = [0]*len(sorted_idx)\n",
        "for i in range (len (sorted_idx)):\n",
        "    ide[i] = clf.feature_importances_[sorted_idx[i]]\n",
        "ide2=[0]*10\n",
        "idx2=[0]*10\n",
        "for i in range (10):\n",
        "    idx2[i]=sorted_idx[len(sorted_idx)-1-i]\n",
        "    ide2[i] = ide[len(sorted_idx)-i-1]\n",
        "columnnames=['']*10\n",
        "j=0\n",
        "col_names=list(sparse_risk.columns)\n",
        "for i in idx2:\n",
        "    columnnames[j]=col_names[i]\n",
        "    j=j+1\n",
        "plt.rcParams.update({'figure.figsize': (10.0, 6.0)})\n",
        "plt.rcParams.update({'font.size': 12})\n",
        "#col_names=list(sparse_risk.columns)\n",
        "plt.barh(columnnames, ide2)\n",
        "plt.xlabel(\"Random Forest Feature Importance\")"
      ],
      "execution_count": 41,
      "outputs": [
        {
          "output_type": "execute_result",
          "data": {
            "text/plain": [
              "Text(0.5, 0, 'Random Forest Feature Importance')"
            ]
          },
          "metadata": {},
          "execution_count": 41
        },
        {
          "output_type": "display_data",
          "data": {
            "image/png": "[encoded data removed]",
            "text/plain": [
              "<Figure size 720x432 with 1 Axes>"
            ]
          },
          "metadata": {
            "needs_background": "light"
          }
        }
      ]
    },
    {
      "cell_type": "markdown",
      "metadata": {
        "id": "wlsb4qp0FcmU"
      },
      "source": [
        "Our model does not show any good results. There are few possible explanations. \n",
        "First, our data set is imbalanced."
      ]
    },
    {
      "cell_type": "code",
      "metadata": {
        "colab": {
          "base_uri": "https://localhost:8080/",
          "height": 566
        },
        "id": "kRyKUFnOFcu_",
        "outputId": "77ea9cce-9775-4d4d-caad-01e66035e43f"
      },
      "source": [
        "doc_risk_tok.groupby('accident').accident.count().plot.bar(ylim=0)\n",
        "plt.show()"
      ],
      "execution_count": 42,
      "outputs": [
        {
          "output_type": "display_data",
          "data": {
            "image/png": "[encoded data removed]",
            "text/plain": [
              "<Figure size 720x432 with 1 Axes>"
            ]
          },
          "metadata": {
            "needs_background": "light"
          }
        }
      ]
    },
    {
      "cell_type": "markdown",
      "metadata": {
        "id": "JWyfGIMHF2b7"
      },
      "source": [
        "Next possible explanation is the small number of tokens in every report."
      ]
    },
    {
      "cell_type": "code",
      "metadata": {
        "colab": {
          "base_uri": "https://localhost:8080/",
          "height": 394
        },
        "id": "JfGsu0z2GBPi",
        "outputId": "bce74d03-72ac-4d81-a2fe-ea4042736dfe"
      },
      "source": [
        "sequence_len=[]\n",
        "for i in range(len(doc_risk_tok)):\n",
        "  sequence_len.append(len(doc_risk_tok.report[i]))\n",
        "\n",
        "pd.Series(sequence_len).hist(bins = 30)"
      ],
      "execution_count": 58,
      "outputs": [
        {
          "output_type": "execute_result",
          "data": {
            "text/plain": [
              "<matplotlib.axes._subplots.AxesSubplot at 0x7ff8f73f9150>"
            ]
          },
          "metadata": {},
          "execution_count": 58
        },
        {
          "output_type": "display_data",
          "data": {
            "image/png": "[encoded data removed]",
            "text/plain": [
              "<Figure size 720x432 with 1 Axes>"
            ]
          },
          "metadata": {
            "needs_background": "light"
          }
        }
      ]
    }
  ]
}